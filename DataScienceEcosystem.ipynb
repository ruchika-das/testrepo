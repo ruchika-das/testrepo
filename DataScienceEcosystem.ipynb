{
 "cells": [
  {
   "cell_type": "markdown",
   "id": "c5801efe-a092-4154-9c16-ab69c2649782",
   "metadata": {},
   "source": [
    "# Data Science Tools and Ecosystem"
   ]
  },
  {
   "cell_type": "markdown",
   "id": "18f6a706-ca34-4ccb-87dc-556999ab45bc",
   "metadata": {},
   "source": [
    "In this notebook, Data Science Tools and Ecosystem are summarized."
   ]
  },
  {
   "cell_type": "markdown",
   "id": "6585b7cf-8249-435b-be8f-041a4964f1f4",
   "metadata": {},
   "source": [
    "**Objectives:**\n",
    "* List popular languages for Data Science\n",
    "* List popular libraries for Data Science\n",
    "* List popular libraries for Data Science"
   ]
  },
  {
   "cell_type": "markdown",
   "id": "fa0ebf19-d584-451c-8257-610f7ac841db",
   "metadata": {},
   "source": [
    "Some of the popular languages that Data Scientists use are:\n",
    "1. Python\n",
    "2. R\n",
    "3. Julia"
   ]
  },
  {
   "cell_type": "markdown",
   "id": "1e76fcdc-3179-4a1f-82b6-6aea3a381d73",
   "metadata": {},
   "source": [
    "Some of the commonly used libraries used by Data Scientists include:\n",
    "1. Pandas\n",
    "2. Matplotlib\n",
    "3. TensorFlow"
   ]
  },
  {
   "cell_type": "markdown",
   "id": "7834cefa-467f-4c21-8f94-636136cee8e8",
   "metadata": {
    "tags": []
   },
   "source": [
    "| Data Science Tools |\n",
    "|------|\n",
    "|   RStudio  |\n",
    "|   Apache Spark  |\n",
    "|   TensorFlow  |"
   ]
  },
  {
   "cell_type": "markdown",
   "id": "0eeed54c-80fc-44d5-860f-aa997ce36724",
   "metadata": {},
   "source": [
    "### Below are a few examples of evaluating arithmetic expressions in Python"
   ]
  },
  {
   "cell_type": "markdown",
   "id": "10dfa224-ede8-4f74-a43d-dae4639a603b",
   "metadata": {
    "tags": []
   },
   "source": [
    "<!--  This a simple arithmetic expression to mutiply then add integers -->"
   ]
  },
  {
   "cell_type": "code",
   "execution_count": 3,
   "id": "10862d7c-0845-459c-98a4-73224773845c",
   "metadata": {
    "tags": []
   },
   "outputs": [
    {
     "data": {
      "text/plain": [
       "17"
      ]
     },
     "execution_count": 3,
     "metadata": {},
     "output_type": "execute_result"
    }
   ],
   "source": [
    "(3*4)+5"
   ]
  },
  {
   "cell_type": "markdown",
   "id": "b58ae840-c217-425f-9e9c-3f1ab52c1751",
   "metadata": {},
   "source": [
    "<!-- This will convert 200 minutes to hours by diving by 60 -->"
   ]
  },
  {
   "cell_type": "code",
   "execution_count": 11,
   "id": "3f9f582a-4152-4ab7-89ce-448c53e72d7a",
   "metadata": {
    "tags": []
   },
   "outputs": [
    {
     "data": {
      "text/plain": [
       "3.3333333333333335"
      ]
     },
     "execution_count": 11,
     "metadata": {},
     "output_type": "execute_result"
    }
   ],
   "source": [
    "200/60"
   ]
  },
  {
   "cell_type": "markdown",
   "id": "5cd0b954-6242-4d75-9734-a0107b098a6b",
   "metadata": {},
   "source": [
    "## Author\n",
    "Ruchika Das"
   ]
  },
  {
   "cell_type": "code",
   "execution_count": null,
   "id": "1fc244ab-d1e9-46c8-a23d-39202d8db723",
   "metadata": {},
   "outputs": [],
   "source": []
  },
  {
   "cell_type": "code",
   "execution_count": null,
   "id": "4936e69a-1051-43e0-8e5f-f52086e36330",
   "metadata": {},
   "outputs": [],
   "source": []
  },
  {
   "cell_type": "code",
   "execution_count": null,
   "id": "1b00045b-1ce2-4ac5-8f60-4e0ce8564cc6",
   "metadata": {},
   "outputs": [],
   "source": []
  }
 ],
 "metadata": {
  "kernelspec": {
   "display_name": "Python",
   "language": "python",
   "name": "conda-env-python-py"
  },
  "language_info": {
   "codemirror_mode": {
    "name": "ipython",
    "version": 3
   },
   "file_extension": ".py",
   "mimetype": "text/x-python",
   "name": "python",
   "nbconvert_exporter": "python",
   "pygments_lexer": "ipython3",
   "version": "3.7.12"
  }
 },
 "nbformat": 4,
 "nbformat_minor": 5
}
